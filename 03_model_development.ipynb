from src.model_architecture import define_model

vocab_size = 5000
max_length = 34

# Build model
model = define_model(vocab_size, max_length)
model.compile(loss='categorical_crossentropy', optimizer='adam')
model.summary()# Model Development Notebook
