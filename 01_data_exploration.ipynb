# Data Exploration Notebook
import os
import pandas as pd
import matplotlib.pyplot as plt

# Load captions
captions_file = '../data/raw/Flickr8k.token.txt'
captions = pd.read_csv(captions_file, sep='\t', header=None, names=['image', 'caption'])

# Display basic info
print(captions.head())

# Number of unique images
print(f"Unique images: {captions['image'].nunique()}")

# Plot number of captions per image
captions['image_base'] = captions['image'].apply(lambda x: x.split('#')[0])
caption_counts = captions['image_base'].value_counts()
caption_counts.hist()
plt.title("Caption Count per Image")
plt.xlabel("Captions")
plt.ylabel("Number of Images")
plt.show()
